{
 "cells": [
  {
   "cell_type": "markdown",
   "id": "c5954111",
   "metadata": {},
   "source": [
    "# Natural Language Processing (NLP)"
   ]
  },
  {
   "cell_type": "markdown",
   "id": "5570d383",
   "metadata": {},
   "source": [
    "## Background\n",
    "\n",
    "Machine Learning enables computers and computer systems to perform complex tasks that conventional programming cannot do. <br>\n",
    "Some of these complex tasks include: \n",
    "- Task Prediction\n",
    "- Object Recognision\n",
    "- Natural Language Processing"
   ]
  },
  {
   "cell_type": "markdown",
   "id": "cd5a34cc",
   "metadata": {},
   "source": [
    "## What is Natural Language Processing \n",
    "Natural Language Processing (NLP) is the application of computational techniques to the analysis and synthesis of natural language.\n",
    "\n",
    "\n",
    "## Applications of NLP \n",
    "- Text Classification\n",
    "- Intent Classification\n",
    "- Sentiment Analysis\n",
    "- Named Entity Recognition\n",
    "- Keyword Extraction\n",
    "- Text Summarization\n",
    "- Question Answering"
   ]
  },
  {
   "cell_type": "markdown",
   "id": "dc40f00b",
   "metadata": {},
   "source": [
    "## Objectives\n",
    "- Understand how text is processed for NLP tasks\n",
    "- Develop a text classification model\n",
    "- Do a perfomance analysis on the NLP model\n",
    "- Use the developed model to make predictions\n",
    "- Save model and deploy on a desktop application"
   ]
  },
  {
   "cell_type": "markdown",
   "id": "e2854504",
   "metadata": {},
   "source": [
    "## Dataset\n",
    "\n",
    "[ag_news_subset](https://www.tensorflow.org/datasets/catalog/ag_news_subset)"
   ]
  },
  {
   "cell_type": "code",
   "execution_count": null,
   "id": "e0087292",
   "metadata": {},
   "outputs": [],
   "source": [
    "# pip install tensorflow_datasets"
   ]
  },
  {
   "cell_type": "code",
   "execution_count": null,
   "id": "662fd7dc",
   "metadata": {},
   "outputs": [],
   "source": [
    "# import sys\n",
    "# !{sys.executable} -m pip install --quiet tensorflow_datasets==4.4.0"
   ]
  },
  {
   "cell_type": "code",
   "execution_count": null,
   "id": "4ad686cc",
   "metadata": {},
   "outputs": [],
   "source": [
    "# !cd ~ && wget -q -O - https://mslearntensorflowlp.blob.core.windows.net/data/tfds-ag-news.tgz | tar xz"
   ]
  },
  {
   "cell_type": "code",
   "execution_count": null,
   "id": "1435d355",
   "metadata": {},
   "outputs": [],
   "source": [
    "# Import Libraries --- [keras, sklearn, tensorflow, tensorflow_datasets, matplotlib]\n",
    "\n",
    "# physical_devices = tf.config.list_physical_devices('GPU') \n",
    "# if len(physical_devices)>0:\n",
    "#     tf.config.experimental.set_memory_growth(physical_devices[0], True)\n",
    "\n",
    "# Load 'ag_news_subset' Dataset\n"
   ]
  },
  {
   "cell_type": "code",
   "execution_count": null,
   "id": "6e3ba48c",
   "metadata": {},
   "outputs": [],
   "source": [
    "# Slipt data into train and test part\n"
   ]
  },
  {
   "cell_type": "code",
   "execution_count": null,
   "id": "71658d17",
   "metadata": {},
   "outputs": [],
   "source": [
    "# Inspect Data\n"
   ]
  },
  {
   "cell_type": "markdown",
   "id": "12d5157d",
   "metadata": {},
   "source": [
    "## Components of NLP\n",
    " 1. Natural Language Understanding: Making meaning out of spoken or written language.\n",
    " 2. Natural Language Generation: Taking formal presentation of what to say and express it in a natural human language like (English, French, Spanish)\n",
    " \n",
    "---\n",
    "\n",
    "### Ananlysis Level of NLP\n",
    "\n",
    "- Morphological Analysis\n",
    "- Syntactic Analysis\n",
    "- Semantic Analysis\n",
    "- Discourse Analysis\n",
    "\n",
    "\n",
    "![flowDiagram](images/flowDiagram.png)\n",
    "\n"
   ]
  },
  {
   "cell_type": "markdown",
   "id": "c6fcb1d2",
   "metadata": {},
   "source": [
    "# Morphology\n",
    "Morphology Analysis refers to the analysis of a word based on the meaningful parts contained within\n",
    "\n",
    "\n",
    "### Text vectorization\n",
    "\n",
    "Under this section, two main things are done\n",
    "\n",
    "- Use a tokenizer to split text into tokens.\n",
    "- Build a vocabulary of those tokens."
   ]
  },
  {
   "cell_type": "code",
   "execution_count": null,
   "id": "5ce25efc",
   "metadata": {},
   "outputs": [],
   "source": []
  },
  {
   "cell_type": "markdown",
   "id": "da1dd444",
   "metadata": {},
   "source": [
    "# Syntax Analysis\n",
    "\n",
    "Syntactic analysis is an analysis that focuses on understanding the logical meaning of sentences or of parts of sentences!\n",
    "\n",
    "### Text vectorization\n",
    "\n",
    "Under this section, two main things are done\n",
    "\n",
    "- Use a tokenizer to split text into tokens.\n",
    "- Build a vocabulary of those tokens."
   ]
  },
  {
   "cell_type": "code",
   "execution_count": null,
   "id": "fa3ca30f",
   "metadata": {},
   "outputs": [],
   "source": []
  },
  {
   "cell_type": "code",
   "execution_count": null,
   "id": "ecd935cf",
   "metadata": {},
   "outputs": [],
   "source": [
    "# Try an example\n"
   ]
  },
  {
   "cell_type": "markdown",
   "id": "f0778ef2",
   "metadata": {},
   "source": [
    "## Bag-of-words text representation\n",
    "\n",
    "In most cases, words represent meaning. We can make meaning of a piece of text by just looking at the individual words, regardless of their order in the sentence. \n",
    "\n",
    "For example, \n",
    "- When classifying news, words like weather, temperature and snow are likely to indicate weather forecast, \n",
    "- Words like stocks and dollar would count towards financial news.\n"
   ]
  },
  {
   "cell_type": "code",
   "execution_count": null,
   "id": "7b706c56",
   "metadata": {},
   "outputs": [],
   "source": []
  },
  {
   "cell_type": "markdown",
   "id": "4d6fb377",
   "metadata": {},
   "source": [
    "## Build ANN Model\n",
    "\n"
   ]
  },
  {
   "cell_type": "code",
   "execution_count": null,
   "id": "4201d768",
   "metadata": {},
   "outputs": [],
   "source": []
  }
 ],
 "metadata": {
  "kernelspec": {
   "display_name": "Python 3",
   "language": "python",
   "name": "python3"
  },
  "language_info": {
   "codemirror_mode": {
    "name": "ipython",
    "version": 3
   },
   "file_extension": ".py",
   "mimetype": "text/x-python",
   "name": "python",
   "nbconvert_exporter": "python",
   "pygments_lexer": "ipython3",
   "version": "3.9.1"
  }
 },
 "nbformat": 4,
 "nbformat_minor": 5
}
